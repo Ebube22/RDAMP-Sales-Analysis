{
 "cells": [
  {
   "cell_type": "code",
   "execution_count": 1,
   "id": "9b09a8b6-2e7f-4fe7-b439-566f14f75180",
   "metadata": {},
   "outputs": [
    {
     "name": "stdout",
     "output_type": "stream",
     "text": [
      "         Order ID  Order Date Order Mode Customer ID       City Postal Code  \\\n",
      "0      BTC-245712   6/22/2024     Online    LO028977     Norton          S8   \n",
      "1      NZR-891212   3/15/2024   In-Store    OH046670   West End        DN36   \n",
      "2      TDN-811093   2/29/2024     Online    FH015492    Newtown        RG20   \n",
      "3      MIX-746378  10/25/2024   In-Store    ZZ015342   East End        BH21   \n",
      "4      UGI-201465   8/18/2024     Online    TV075977     Seaton        LE15   \n",
      "...           ...         ...        ...         ...        ...         ...   \n",
      "10995  DSZ-011268    5/7/2024   In-Store    WF009587     Milton        NG22   \n",
      "10996  CGM-940703    1/8/2023     Online    BP009480     London        EC1V   \n",
      "10997  HRH-890460   3/22/2023   In-Store    ME002547  Normanton        LE15   \n",
      "10998  IFZ-697340   9/27/2024     Online    JQ001839     Seaton        LE15   \n",
      "10999  LPN-893872   1/20/2023   In-Store    DB076382     Sutton        CT15   \n",
      "\n",
      "       Country           Region                  Product ID  \\\n",
      "0      England              NaN  01JZ3N512GHNAJSF3HCCQ0PQYY   \n",
      "1      England  East of England  01JZ3N56DDVK7Y600QGH2M6T1X   \n",
      "2      England    East Midlands  01JZ3N53A64TW72TVK28SMMXKX   \n",
      "3      England       North West  01JZ3N572S4RVA29Y33YRWH174   \n",
      "4      England    East Midlands  01JZ3N52RT7CJNB27BFS6H8BF7   \n",
      "...        ...              ...                         ...   \n",
      "10995  England              NaN  01JZ3N5AW1CPFPMWWT33J6AGMW   \n",
      "10996  England           London  01JZ3NC7B86JEQRHTJTFX0FSGK   \n",
      "10997  England       North West  01JZ3N5989NSCYRYH9AT9BA983   \n",
      "10998  England       South West  01JZ3NC5FBR8J1HDZXW4XW5RH7   \n",
      "10999  England       North East  01JZ3NC4DC77G1KN0YJGS764RP   \n",
      "\n",
      "                       Product Name           Category  \\\n",
      "0              Flavored Popcorn Mix      Food - Snacks   \n",
      "1                         Olive Oil  Food - Condiments   \n",
      "2               Children's Backpack        Accessories   \n",
      "3              Honey Butter Popcorn      Food - Snacks   \n",
      "4                  Sliced Cucumbers     Food - Produce   \n",
      "...                             ...                ...   \n",
      "10995       Cheddar Cheese Crackers      Food - Snacks   \n",
      "10996     Reusable Produce Bags Set            Kitchen   \n",
      "10997  Fitness Resistance Bands Set            Fitness   \n",
      "10998             Smartphone Tripod        Photography   \n",
      "10999         Gingerbread House Kit      Food - Baking   \n",
      "\n",
      "                        Sub-Category  Sales  Cost Price  Quantity  Discount  \n",
      "0                     Gourmet Snacks   2.99       0.897         4      0.24  \n",
      "1                       Cooking Oils   7.99       2.397        16      0.32  \n",
      "2                         Kids' Bags  29.99       8.997         2      0.09  \n",
      "3                     Gourmet Snacks   2.99       0.897         4      0.01  \n",
      "4               Fresh Cut Vegetables   1.29       0.387        11      0.34  \n",
      "...                              ...    ...         ...       ...       ...  \n",
      "10995                  Savory Snacks   2.29       0.687         4      0.14  \n",
      "10996  Eco-Friendly Kitchen Products  14.99       4.497         7      0.17  \n",
      "10997    Strength Training Equipment  34.99      10.497         8      0.11  \n",
      "10998          Tripods & Accessories  29.99       8.997        19      0.38  \n",
      "10999                    Baking Kits   6.99       2.097        13       NaN  \n",
      "\n",
      "[11000 rows x 16 columns]\n"
     ]
    }
   ],
   "source": [
    "import pandas as pd\n",
    "import numpy as np\n",
    "import seaborn as sns\n",
    "import matplotlib as plt\n",
    "\n",
    "# read and import tje datasets with panddas\n",
    "ace_df = pd.read_csv(\"C:/Users/USER/OneDrive - hull.ac.uk/DAIM Lab Workshops/Mentorship Task 1/Data Sets/Ace Superstore Retail Dataset(in).csv\", encoding = 'latin1')\n",
    "store_df = pd.read_csv(\"C:/Users/USER/OneDrive - hull.ac.uk/DAIM Lab Workshops/Mentorship Task 1/Data Sets/Store Locations(Store Locations).csv\")\n",
    "\n",
    "\n",
    "print(ace_df)\n",
    "#print(store_df)"
   ]
  },
  {
   "cell_type": "code",
   "execution_count": 2,
   "id": "9f5de3da-c338-4bb4-be9e-03f25f756a2c",
   "metadata": {},
   "outputs": [
    {
     "data": {
      "text/plain": [
       "Order ID           0\n",
       "Order Date         0\n",
       "Order Mode         0\n",
       "Customer ID        0\n",
       "City               0\n",
       "Postal Code        0\n",
       "Country          220\n",
       "Region          2811\n",
       "Product ID         0\n",
       "Product Name       0\n",
       "Category         198\n",
       "Sub-Category       0\n",
       "Sales              0\n",
       "Cost Price         0\n",
       "Quantity           0\n",
       "Discount         973\n",
       "dtype: int64"
      ]
     },
     "execution_count": 2,
     "metadata": {},
     "output_type": "execute_result"
    }
   ],
   "source": [
    "#Checking for null values\n",
    "ace_df.isnull().sum()\n",
    "\n",
    "\n"
   ]
  },
  {
   "cell_type": "code",
   "execution_count": 3,
   "id": "bca57902-88e0-4842-b912-b4ccf6dd7e94",
   "metadata": {},
   "outputs": [
    {
     "data": {
      "text/plain": [
       "np.int64(0)"
      ]
     },
     "execution_count": 3,
     "metadata": {},
     "output_type": "execute_result"
    }
   ],
   "source": [
    "# to find duplicate values\n",
    "ace_df.duplicated().sum()"
   ]
  },
  {
   "cell_type": "code",
   "execution_count": 4,
   "id": "58d400fe-4a83-4722-b281-241b9c86a992",
   "metadata": {},
   "outputs": [],
   "source": [
    "# Mapping postal code to region Dictionary"
   ]
  },
  {
   "cell_type": "code",
   "execution_count": 5,
   "id": "5baf48ea-90ef-4f57-8b00-ffe72bcc571b",
   "metadata": {},
   "outputs": [
    {
     "data": {
      "text/plain": [
       "City\n",
       "London        925\n",
       "Norton        319\n",
       "Sutton        305\n",
       "Liverpool     302\n",
       "Birmingham    300\n",
       "             ... \n",
       "Burnside      130\n",
       "Normanton     129\n",
       "Whitwell      129\n",
       "Aberdeen      128\n",
       "Whitchurch    120\n",
       "Name: count, Length: 61, dtype: int64"
      ]
     },
     "execution_count": 5,
     "metadata": {},
     "output_type": "execute_result"
    }
   ],
   "source": [
    "#Checking the cities under city Column\n",
    "\n",
    "ace_df['City'].value_counts()"
   ]
  },
  {
   "cell_type": "code",
   "execution_count": 6,
   "id": "b81102ab-20a9-41cf-ba79-9239d525c823",
   "metadata": {},
   "outputs": [
    {
     "data": {
      "text/plain": [
       "Postal Code\n",
       "LE15    295\n",
       "BD23    290\n",
       "CV35    279\n",
       "S8      175\n",
       "M14     175\n",
       "       ... \n",
       "AB39    128\n",
       "AB56    123\n",
       "BS14    120\n",
       "DN21    120\n",
       "NG34    118\n",
       "Name: count, Length: 72, dtype: int64"
      ]
     },
     "execution_count": 6,
     "metadata": {},
     "output_type": "execute_result"
    }
   ],
   "source": [
    "# Checking the postcodes under Postal Code column\n",
    "\n",
    "ace_df['Postal Code'].value_counts()"
   ]
  },
  {
   "cell_type": "code",
   "execution_count": 7,
   "id": "72522b37-a5d5-46c6-92ca-6d5710b9be4c",
   "metadata": {},
   "outputs": [],
   "source": [
    "#Here we are mapping the postcode to the region to automatically fill Region based on the postal code already in the data\n",
    "\n",
    "postalcode_region_map = ace_df.loc[ace_df['Region'].notnull(), ['Postal Code', 'Region']].drop_duplicates().set_index('Postal Code')['Region'].to_dict()\n",
    "\n",
    "ace_df['Region'] = ace_df['Region'].fillna(ace_df['Postal Code'].map(postalcode_region_map))"
   ]
  },
  {
   "cell_type": "code",
   "execution_count": 8,
   "id": "0803489b-e7fd-482a-9d7c-156ff9aa1bce",
   "metadata": {},
   "outputs": [],
   "source": [
    "#  Checking to see it was mapped successfully\n",
    "\n",
    "#ace_df[ace_df['Postal Code'].str.contains('WC1B')]"
   ]
  },
  {
   "cell_type": "code",
   "execution_count": 9,
   "id": "35fb536d-c98a-4118-896e-1f86e54675e5",
   "metadata": {},
   "outputs": [],
   "source": [
    "# here we are maping the City to automatically fill the country based on the city already in the data\n",
    "\n",
    "country_city_map = ace_df.loc[ace_df['Country'].notnull(), ['City', 'Country']].drop_duplicates().set_index('City')['Country'].to_dict()\n",
    "\n",
    "ace_df['Country'] = ace_df['Country'].fillna(ace_df['City'].map(country_city_map))"
   ]
  },
  {
   "cell_type": "code",
   "execution_count": 10,
   "id": "bc47a487-6877-4554-b66d-710b6dc0fe82",
   "metadata": {},
   "outputs": [],
   "source": [
    "#Here we are mapping category to sub catregories\n",
    "\n",
    "category_map = ace_df.loc[ace_df['Category'].notnull(), ['Sub-Category', 'Category']].drop_duplicates().set_index('Sub-Category')['Category'].to_dict()\n",
    "\n",
    "ace_df['Category'] = ace_df['Category'].fillna(ace_df['Sub-Category'].map(category_map))"
   ]
  },
  {
   "cell_type": "code",
   "execution_count": 11,
   "id": "9fb35278-55d3-4bc8-bf83-4d61c1a9ac4c",
   "metadata": {},
   "outputs": [
    {
     "data": {
      "text/html": [
       "<div>\n",
       "<style scoped>\n",
       "    .dataframe tbody tr th:only-of-type {\n",
       "        vertical-align: middle;\n",
       "    }\n",
       "\n",
       "    .dataframe tbody tr th {\n",
       "        vertical-align: top;\n",
       "    }\n",
       "\n",
       "    .dataframe thead th {\n",
       "        text-align: right;\n",
       "    }\n",
       "</style>\n",
       "<table border=\"1\" class=\"dataframe\">\n",
       "  <thead>\n",
       "    <tr style=\"text-align: right;\">\n",
       "      <th></th>\n",
       "      <th>Order ID</th>\n",
       "      <th>Order Date</th>\n",
       "      <th>Order Mode</th>\n",
       "      <th>Customer ID</th>\n",
       "      <th>City</th>\n",
       "      <th>Postal Code</th>\n",
       "      <th>Country</th>\n",
       "      <th>Region</th>\n",
       "      <th>Product ID</th>\n",
       "      <th>Product Name</th>\n",
       "      <th>Category</th>\n",
       "      <th>Sub-Category</th>\n",
       "      <th>Sales</th>\n",
       "      <th>Cost Price</th>\n",
       "      <th>Quantity</th>\n",
       "      <th>Discount</th>\n",
       "    </tr>\n",
       "  </thead>\n",
       "  <tbody>\n",
       "    <tr>\n",
       "      <th>79</th>\n",
       "      <td>HWI-435693</td>\n",
       "      <td>8/1/2024</td>\n",
       "      <td>In-Store</td>\n",
       "      <td>JQ000431</td>\n",
       "      <td>Whitchurch</td>\n",
       "      <td>BS14</td>\n",
       "      <td>England</td>\n",
       "      <td>East Midlands</td>\n",
       "      <td>01JZ3N55H83PKNR5TH9H69YCE3</td>\n",
       "      <td>Sports Water Bottle with Infuser</td>\n",
       "      <td>Fitness</td>\n",
       "      <td>Hydration Gear</td>\n",
       "      <td>19.99</td>\n",
       "      <td>5.997</td>\n",
       "      <td>19</td>\n",
       "      <td>0.34</td>\n",
       "    </tr>\n",
       "  </tbody>\n",
       "</table>\n",
       "</div>"
      ],
      "text/plain": [
       "      Order ID Order Date Order Mode Customer ID        City Postal Code  \\\n",
       "79  HWI-435693   8/1/2024   In-Store    JQ000431  Whitchurch        BS14   \n",
       "\n",
       "    Country         Region                  Product ID  \\\n",
       "79  England  East Midlands  01JZ3N55H83PKNR5TH9H69YCE3   \n",
       "\n",
       "                        Product Name Category    Sub-Category  Sales  \\\n",
       "79  Sports Water Bottle with Infuser  Fitness  Hydration Gear  19.99   \n",
       "\n",
       "    Cost Price  Quantity  Discount  \n",
       "79       5.997        19      0.34  "
      ]
     },
     "execution_count": 11,
     "metadata": {},
     "output_type": "execute_result"
    }
   ],
   "source": [
    "#Checking and analyzing to see if it mapped successfully\n",
    "\n",
    "ace_df[ace_df['Order ID'].str.contains('HWI-435693')]"
   ]
  },
  {
   "cell_type": "code",
   "execution_count": 12,
   "id": "14d62ba4-bdd0-4e28-a1ae-a25a7760b158",
   "metadata": {},
   "outputs": [
    {
     "data": {
      "text/plain": [
       "Order ID          0\n",
       "Order Date        0\n",
       "Order Mode        0\n",
       "Customer ID       0\n",
       "City              0\n",
       "Postal Code       0\n",
       "Country           0\n",
       "Region            0\n",
       "Product ID        0\n",
       "Product Name      0\n",
       "Category         31\n",
       "Sub-Category      0\n",
       "Sales             0\n",
       "Cost Price        0\n",
       "Quantity          0\n",
       "Discount        973\n",
       "dtype: int64"
      ]
     },
     "execution_count": 12,
     "metadata": {},
     "output_type": "execute_result"
    }
   ],
   "source": [
    "ace_df.isnull().sum()"
   ]
  },
  {
   "cell_type": "code",
   "execution_count": 13,
   "id": "8dc494f6-3c01-4d74-99fd-9709e0319b49",
   "metadata": {},
   "outputs": [],
   "source": [
    "# to fill the discount column we first calculate unit sales price for all rows\n",
    "\n",
    "ace_df['sales_price'] = ace_df['Sales'] / ace_df['Quantity']\n",
    "\n",
    "# we can estimate original price from rows where discount is known\n",
    "\n",
    "discount_known = ace_df[ace_df['Discount'].notnull()].copy()\n",
    "discount_known['Original_price'] = discount_known['sales_price'] / (1 - discount_known['Discount'])\n",
    "\n",
    "#Estimate average markup like oriiginal_price / cost_price\n",
    "\n",
    "discount_known['markup'] = discount_known['Original_price'] / discount_known['Cost Price']\n",
    "average_markup = discount_known['markup'].mean()\n",
    "\n",
    "#For rows with missing discount we estimate original price\n",
    "\n",
    "missing_discount = ace_df['Discount'].isnull()\n",
    "valid_missing = (\n",
    "    missing_discount & \n",
    "    ace_df['Cost Price'].notnull() &\n",
    "    ace_df['Sales'].notnull() &\n",
    "    ace_df['Quantity'].notnull()\n",
    ")\n",
    "ace_df.loc[missing_discount, 'Original_price'] = ace_df.loc[missing_discount, 'Cost Price'] * average_markup \n",
    "\n",
    "# now the original price we estimated lets calculate the discount\n",
    "\n",
    "ace_df.loc[missing_discount, 'Discount'] = 1 - (ace_df.loc[missing_discount, 'sales_price'] / ace_df.loc[missing_discount, 'Original_price'])\n",
    "\n",
    "#dropping created columns\n",
    "\n",
    "ace_df.drop(columns=['sales_price', 'Original_price'], inplace=True)"
   ]
  },
  {
   "cell_type": "code",
   "execution_count": 14,
   "id": "614935d5-7df8-486c-aeb2-f1332c6b7967",
   "metadata": {},
   "outputs": [
    {
     "data": {
      "text/html": [
       "<div>\n",
       "<style scoped>\n",
       "    .dataframe tbody tr th:only-of-type {\n",
       "        vertical-align: middle;\n",
       "    }\n",
       "\n",
       "    .dataframe tbody tr th {\n",
       "        vertical-align: top;\n",
       "    }\n",
       "\n",
       "    .dataframe thead th {\n",
       "        text-align: right;\n",
       "    }\n",
       "</style>\n",
       "<table border=\"1\" class=\"dataframe\">\n",
       "  <thead>\n",
       "    <tr style=\"text-align: right;\">\n",
       "      <th></th>\n",
       "      <th>Order ID</th>\n",
       "      <th>Order Date</th>\n",
       "      <th>Order Mode</th>\n",
       "      <th>Customer ID</th>\n",
       "      <th>City</th>\n",
       "      <th>Postal Code</th>\n",
       "      <th>Country</th>\n",
       "      <th>Region</th>\n",
       "      <th>Product ID</th>\n",
       "      <th>Product Name</th>\n",
       "      <th>Category</th>\n",
       "      <th>Sub-Category</th>\n",
       "      <th>Sales</th>\n",
       "      <th>Cost Price</th>\n",
       "      <th>Quantity</th>\n",
       "      <th>Discount</th>\n",
       "    </tr>\n",
       "  </thead>\n",
       "  <tbody>\n",
       "    <tr>\n",
       "      <th>0</th>\n",
       "      <td>BTC-245712</td>\n",
       "      <td>6/22/2024</td>\n",
       "      <td>Online</td>\n",
       "      <td>LO028977</td>\n",
       "      <td>Norton</td>\n",
       "      <td>S8</td>\n",
       "      <td>England</td>\n",
       "      <td>East Midlands</td>\n",
       "      <td>01JZ3N512GHNAJSF3HCCQ0PQYY</td>\n",
       "      <td>Flavored Popcorn Mix</td>\n",
       "      <td>Food - Snacks</td>\n",
       "      <td>Gourmet Snacks</td>\n",
       "      <td>2.99</td>\n",
       "      <td>0.897</td>\n",
       "      <td>4</td>\n",
       "      <td>0.240000</td>\n",
       "    </tr>\n",
       "    <tr>\n",
       "      <th>1</th>\n",
       "      <td>NZR-891212</td>\n",
       "      <td>3/15/2024</td>\n",
       "      <td>In-Store</td>\n",
       "      <td>OH046670</td>\n",
       "      <td>West End</td>\n",
       "      <td>DN36</td>\n",
       "      <td>England</td>\n",
       "      <td>East of England</td>\n",
       "      <td>01JZ3N56DDVK7Y600QGH2M6T1X</td>\n",
       "      <td>Olive Oil</td>\n",
       "      <td>Food - Condiments</td>\n",
       "      <td>Cooking Oils</td>\n",
       "      <td>7.99</td>\n",
       "      <td>2.397</td>\n",
       "      <td>16</td>\n",
       "      <td>0.320000</td>\n",
       "    </tr>\n",
       "    <tr>\n",
       "      <th>2</th>\n",
       "      <td>TDN-811093</td>\n",
       "      <td>2/29/2024</td>\n",
       "      <td>Online</td>\n",
       "      <td>FH015492</td>\n",
       "      <td>Newtown</td>\n",
       "      <td>RG20</td>\n",
       "      <td>England</td>\n",
       "      <td>East Midlands</td>\n",
       "      <td>01JZ3N53A64TW72TVK28SMMXKX</td>\n",
       "      <td>Children's Backpack</td>\n",
       "      <td>Accessories</td>\n",
       "      <td>Kids' Bags</td>\n",
       "      <td>29.99</td>\n",
       "      <td>8.997</td>\n",
       "      <td>2</td>\n",
       "      <td>0.090000</td>\n",
       "    </tr>\n",
       "    <tr>\n",
       "      <th>3</th>\n",
       "      <td>MIX-746378</td>\n",
       "      <td>10/25/2024</td>\n",
       "      <td>In-Store</td>\n",
       "      <td>ZZ015342</td>\n",
       "      <td>East End</td>\n",
       "      <td>BH21</td>\n",
       "      <td>England</td>\n",
       "      <td>North West</td>\n",
       "      <td>01JZ3N572S4RVA29Y33YRWH174</td>\n",
       "      <td>Honey Butter Popcorn</td>\n",
       "      <td>Food - Snacks</td>\n",
       "      <td>Gourmet Snacks</td>\n",
       "      <td>2.99</td>\n",
       "      <td>0.897</td>\n",
       "      <td>4</td>\n",
       "      <td>0.010000</td>\n",
       "    </tr>\n",
       "    <tr>\n",
       "      <th>4</th>\n",
       "      <td>UGI-201465</td>\n",
       "      <td>8/18/2024</td>\n",
       "      <td>Online</td>\n",
       "      <td>TV075977</td>\n",
       "      <td>Seaton</td>\n",
       "      <td>LE15</td>\n",
       "      <td>England</td>\n",
       "      <td>East Midlands</td>\n",
       "      <td>01JZ3N52RT7CJNB27BFS6H8BF7</td>\n",
       "      <td>Sliced Cucumbers</td>\n",
       "      <td>Food - Produce</td>\n",
       "      <td>Fresh Cut Vegetables</td>\n",
       "      <td>1.29</td>\n",
       "      <td>0.387</td>\n",
       "      <td>11</td>\n",
       "      <td>0.340000</td>\n",
       "    </tr>\n",
       "    <tr>\n",
       "      <th>...</th>\n",
       "      <td>...</td>\n",
       "      <td>...</td>\n",
       "      <td>...</td>\n",
       "      <td>...</td>\n",
       "      <td>...</td>\n",
       "      <td>...</td>\n",
       "      <td>...</td>\n",
       "      <td>...</td>\n",
       "      <td>...</td>\n",
       "      <td>...</td>\n",
       "      <td>...</td>\n",
       "      <td>...</td>\n",
       "      <td>...</td>\n",
       "      <td>...</td>\n",
       "      <td>...</td>\n",
       "      <td>...</td>\n",
       "    </tr>\n",
       "    <tr>\n",
       "      <th>10995</th>\n",
       "      <td>DSZ-011268</td>\n",
       "      <td>5/7/2024</td>\n",
       "      <td>In-Store</td>\n",
       "      <td>WF009587</td>\n",
       "      <td>Milton</td>\n",
       "      <td>NG22</td>\n",
       "      <td>England</td>\n",
       "      <td>East of England</td>\n",
       "      <td>01JZ3N5AW1CPFPMWWT33J6AGMW</td>\n",
       "      <td>Cheddar Cheese Crackers</td>\n",
       "      <td>Food - Snacks</td>\n",
       "      <td>Savory Snacks</td>\n",
       "      <td>2.29</td>\n",
       "      <td>0.687</td>\n",
       "      <td>4</td>\n",
       "      <td>0.140000</td>\n",
       "    </tr>\n",
       "    <tr>\n",
       "      <th>10996</th>\n",
       "      <td>CGM-940703</td>\n",
       "      <td>1/8/2023</td>\n",
       "      <td>Online</td>\n",
       "      <td>BP009480</td>\n",
       "      <td>London</td>\n",
       "      <td>EC1V</td>\n",
       "      <td>England</td>\n",
       "      <td>London</td>\n",
       "      <td>01JZ3NC7B86JEQRHTJTFX0FSGK</td>\n",
       "      <td>Reusable Produce Bags Set</td>\n",
       "      <td>Kitchen</td>\n",
       "      <td>Eco-Friendly Kitchen Products</td>\n",
       "      <td>14.99</td>\n",
       "      <td>4.497</td>\n",
       "      <td>7</td>\n",
       "      <td>0.170000</td>\n",
       "    </tr>\n",
       "    <tr>\n",
       "      <th>10997</th>\n",
       "      <td>HRH-890460</td>\n",
       "      <td>3/22/2023</td>\n",
       "      <td>In-Store</td>\n",
       "      <td>ME002547</td>\n",
       "      <td>Normanton</td>\n",
       "      <td>LE15</td>\n",
       "      <td>England</td>\n",
       "      <td>North West</td>\n",
       "      <td>01JZ3N5989NSCYRYH9AT9BA983</td>\n",
       "      <td>Fitness Resistance Bands Set</td>\n",
       "      <td>Fitness</td>\n",
       "      <td>Strength Training Equipment</td>\n",
       "      <td>34.99</td>\n",
       "      <td>10.497</td>\n",
       "      <td>8</td>\n",
       "      <td>0.110000</td>\n",
       "    </tr>\n",
       "    <tr>\n",
       "      <th>10998</th>\n",
       "      <td>IFZ-697340</td>\n",
       "      <td>9/27/2024</td>\n",
       "      <td>Online</td>\n",
       "      <td>JQ001839</td>\n",
       "      <td>Seaton</td>\n",
       "      <td>LE15</td>\n",
       "      <td>England</td>\n",
       "      <td>South West</td>\n",
       "      <td>01JZ3NC5FBR8J1HDZXW4XW5RH7</td>\n",
       "      <td>Smartphone Tripod</td>\n",
       "      <td>Photography</td>\n",
       "      <td>Tripods &amp; Accessories</td>\n",
       "      <td>29.99</td>\n",
       "      <td>8.997</td>\n",
       "      <td>19</td>\n",
       "      <td>0.380000</td>\n",
       "    </tr>\n",
       "    <tr>\n",
       "      <th>10999</th>\n",
       "      <td>LPN-893872</td>\n",
       "      <td>1/20/2023</td>\n",
       "      <td>In-Store</td>\n",
       "      <td>DB076382</td>\n",
       "      <td>Sutton</td>\n",
       "      <td>CT15</td>\n",
       "      <td>England</td>\n",
       "      <td>North East</td>\n",
       "      <td>01JZ3NC4DC77G1KN0YJGS764RP</td>\n",
       "      <td>Gingerbread House Kit</td>\n",
       "      <td>Food - Baking</td>\n",
       "      <td>Baking Kits</td>\n",
       "      <td>6.99</td>\n",
       "      <td>2.097</td>\n",
       "      <td>13</td>\n",
       "      <td>0.647818</td>\n",
       "    </tr>\n",
       "  </tbody>\n",
       "</table>\n",
       "<p>11000 rows × 16 columns</p>\n",
       "</div>"
      ],
      "text/plain": [
       "         Order ID  Order Date Order Mode Customer ID       City Postal Code  \\\n",
       "0      BTC-245712   6/22/2024     Online    LO028977     Norton          S8   \n",
       "1      NZR-891212   3/15/2024   In-Store    OH046670   West End        DN36   \n",
       "2      TDN-811093   2/29/2024     Online    FH015492    Newtown        RG20   \n",
       "3      MIX-746378  10/25/2024   In-Store    ZZ015342   East End        BH21   \n",
       "4      UGI-201465   8/18/2024     Online    TV075977     Seaton        LE15   \n",
       "...           ...         ...        ...         ...        ...         ...   \n",
       "10995  DSZ-011268    5/7/2024   In-Store    WF009587     Milton        NG22   \n",
       "10996  CGM-940703    1/8/2023     Online    BP009480     London        EC1V   \n",
       "10997  HRH-890460   3/22/2023   In-Store    ME002547  Normanton        LE15   \n",
       "10998  IFZ-697340   9/27/2024     Online    JQ001839     Seaton        LE15   \n",
       "10999  LPN-893872   1/20/2023   In-Store    DB076382     Sutton        CT15   \n",
       "\n",
       "       Country           Region                  Product ID  \\\n",
       "0      England    East Midlands  01JZ3N512GHNAJSF3HCCQ0PQYY   \n",
       "1      England  East of England  01JZ3N56DDVK7Y600QGH2M6T1X   \n",
       "2      England    East Midlands  01JZ3N53A64TW72TVK28SMMXKX   \n",
       "3      England       North West  01JZ3N572S4RVA29Y33YRWH174   \n",
       "4      England    East Midlands  01JZ3N52RT7CJNB27BFS6H8BF7   \n",
       "...        ...              ...                         ...   \n",
       "10995  England  East of England  01JZ3N5AW1CPFPMWWT33J6AGMW   \n",
       "10996  England           London  01JZ3NC7B86JEQRHTJTFX0FSGK   \n",
       "10997  England       North West  01JZ3N5989NSCYRYH9AT9BA983   \n",
       "10998  England       South West  01JZ3NC5FBR8J1HDZXW4XW5RH7   \n",
       "10999  England       North East  01JZ3NC4DC77G1KN0YJGS764RP   \n",
       "\n",
       "                       Product Name           Category  \\\n",
       "0              Flavored Popcorn Mix      Food - Snacks   \n",
       "1                         Olive Oil  Food - Condiments   \n",
       "2               Children's Backpack        Accessories   \n",
       "3              Honey Butter Popcorn      Food - Snacks   \n",
       "4                  Sliced Cucumbers     Food - Produce   \n",
       "...                             ...                ...   \n",
       "10995       Cheddar Cheese Crackers      Food - Snacks   \n",
       "10996     Reusable Produce Bags Set            Kitchen   \n",
       "10997  Fitness Resistance Bands Set            Fitness   \n",
       "10998             Smartphone Tripod        Photography   \n",
       "10999         Gingerbread House Kit      Food - Baking   \n",
       "\n",
       "                        Sub-Category  Sales  Cost Price  Quantity  Discount  \n",
       "0                     Gourmet Snacks   2.99       0.897         4  0.240000  \n",
       "1                       Cooking Oils   7.99       2.397        16  0.320000  \n",
       "2                         Kids' Bags  29.99       8.997         2  0.090000  \n",
       "3                     Gourmet Snacks   2.99       0.897         4  0.010000  \n",
       "4               Fresh Cut Vegetables   1.29       0.387        11  0.340000  \n",
       "...                              ...    ...         ...       ...       ...  \n",
       "10995                  Savory Snacks   2.29       0.687         4  0.140000  \n",
       "10996  Eco-Friendly Kitchen Products  14.99       4.497         7  0.170000  \n",
       "10997    Strength Training Equipment  34.99      10.497         8  0.110000  \n",
       "10998          Tripods & Accessories  29.99       8.997        19  0.380000  \n",
       "10999                    Baking Kits   6.99       2.097        13  0.647818  \n",
       "\n",
       "[11000 rows x 16 columns]"
      ]
     },
     "execution_count": 14,
     "metadata": {},
     "output_type": "execute_result"
    }
   ],
   "source": [
    "ace_df"
   ]
  },
  {
   "cell_type": "code",
   "execution_count": 15,
   "id": "088e555b-6dc4-4e0a-8342-5e53f48cf343",
   "metadata": {},
   "outputs": [
    {
     "name": "stdout",
     "output_type": "stream",
     "text": [
      "       Sales  Quantity  Cost Price  Discount  discount_check\n",
      "1       7.99        16       2.397  0.320000        0.320000\n",
      "2      29.99         2       8.997  0.090000        0.090000\n",
      "3       2.99         4       0.897  0.010000        0.010000\n",
      "4       1.29        11       0.387  0.340000        0.340000\n",
      "6       3.99        11       1.197  0.210000        0.210000\n",
      "...      ...       ...         ...       ...             ...\n",
      "10993   1.89        18       0.567  0.050000        0.050000\n",
      "10995   2.29         4       0.687  0.140000        0.140000\n",
      "10996  14.99         7       4.497  0.170000        0.170000\n",
      "10997  34.99         8      10.497  0.110000        0.110000\n",
      "10999   6.99        13       2.097  0.647818        0.647818\n",
      "\n",
      "[8373 rows x 5 columns]\n"
     ]
    }
   ],
   "source": [
    "# testing to see if we have the same discount with what the dataset provided\n",
    "\n",
    "\n",
    "test_df = ace_df[ace_df['Discount'].notnull() & ace_df['Cost Price'].notnull()].copy()\n",
    "\n",
    "test_df['sales_price'] = test_df['Sales'] / test_df['Quantity']\n",
    "\n",
    "test_df['Original_price'] = test_df['sales_price'] / (1- test_df['Discount'])\n",
    "\n",
    "test_df['discount_check'] = 1 -(test_df['sales_price'] / test_df['Original_price'])\n",
    "\n",
    "test_df['exact_match'] = (test_df['Discount'].round(2) == test_df['discount_check']).round(2)\n",
    "\n",
    "print(test_df[test_df['exact_match'] == False][['Sales', 'Quantity', 'Cost Price', 'Discount', 'discount_check']])"
   ]
  },
  {
   "cell_type": "code",
   "execution_count": 16,
   "id": "b8a71b58-47b7-4776-8bea-01572f20cc2b",
   "metadata": {},
   "outputs": [
    {
     "data": {
      "text/plain": [
       "Order ID         0\n",
       "Order Date       0\n",
       "Order Mode       0\n",
       "Customer ID      0\n",
       "City             0\n",
       "Postal Code      0\n",
       "Country          0\n",
       "Region           0\n",
       "Product ID       0\n",
       "Product Name     0\n",
       "Category        31\n",
       "Sub-Category     0\n",
       "Sales            0\n",
       "Cost Price       0\n",
       "Quantity         0\n",
       "Discount         0\n",
       "dtype: int64"
      ]
     },
     "execution_count": 16,
     "metadata": {},
     "output_type": "execute_result"
    }
   ],
   "source": [
    "ace_df.isnull().sum()"
   ]
  },
  {
   "cell_type": "code",
   "execution_count": 17,
   "id": "dd7fce04-533e-405e-bcfc-0ca43800ac7e",
   "metadata": {},
   "outputs": [],
   "source": [
    "#ace_df"
   ]
  },
  {
   "cell_type": "code",
   "execution_count": 18,
   "id": "1ee6a9f7-4fad-4917-a7cc-bdca25a4a738",
   "metadata": {},
   "outputs": [
    {
     "name": "stdout",
     "output_type": "stream",
     "text": [
      "Still Missing Values:  0\n"
     ]
    }
   ],
   "source": [
    "# some categories are not still mapped\n",
    "\n",
    "subcat_to_cat = {}\n",
    "subcat_to_cat['Seasoning Mixes'] = 'Food - Spices'\n",
    "subcat_to_cat['Dog Supplies'] = 'Pet Products'\n",
    "subcat_to_cat['Audio Recording Devices'] = 'Electronics'\n",
    "subcat_to_cat['Seeds & Nuts'] = 'Food - Snacks'\n",
    "subcat_to_cat['Healthy Meals'] = 'Food - Meals'\n",
    "\n",
    "for i, row in ace_df.iterrows():\n",
    "    if pd.isnull(row['Category']):\n",
    "        subcat = row['Sub-Category']\n",
    "        if pd.notnull(subcat) and subcat in subcat_to_cat:\n",
    "            ace_df.at[i, 'Category'] = subcat_to_cat[subcat]#and pd.notnull(row['Sub-Category']):\n",
    "                 \n",
    "\n",
    "# go through each row and fill in the missing category using Sub-Category\n",
    "\n",
    "#for i, row in ace_df.iterrows():\n",
    "    #if pd.isnull(row['Category']):\n",
    "       # subcat = row['Sub-Category']\n",
    "      #  if pd.notnull(subcat) and subcat in subcat_to_cat:\n",
    "     #       ace_df[i, 'Category'] = subcat_to_cat[subcat]\n",
    "print(\"Still Missing Values: \",ace_df['Category'].isnull().sum())"
   ]
  },
  {
   "cell_type": "code",
   "execution_count": 19,
   "id": "6887d49d-ee93-402e-8974-7081bb593940",
   "metadata": {},
   "outputs": [
    {
     "data": {
      "text/plain": [
       "Order ID        0\n",
       "Order Date      0\n",
       "Order Mode      0\n",
       "Customer ID     0\n",
       "City            0\n",
       "Postal Code     0\n",
       "Country         0\n",
       "Region          0\n",
       "Product ID      0\n",
       "Product Name    0\n",
       "Category        0\n",
       "Sub-Category    0\n",
       "Sales           0\n",
       "Cost Price      0\n",
       "Quantity        0\n",
       "Discount        0\n",
       "dtype: int64"
      ]
     },
     "execution_count": 19,
     "metadata": {},
     "output_type": "execute_result"
    }
   ],
   "source": [
    "ace_df.isnull().sum()"
   ]
  },
  {
   "cell_type": "code",
   "execution_count": 20,
   "id": "be6a3c44-560c-4ee3-b5cf-a3647bdffc43",
   "metadata": {},
   "outputs": [
    {
     "name": "stdout",
     "output_type": "stream",
     "text": [
      "['Order ID', 'Order Date', 'Order Mode', 'Customer ID', 'City', 'Postal Code', 'Country', 'Region', 'Product ID', 'Product Name', 'Category', 'Sub-Category', 'Sales', 'Cost Price', 'Quantity', 'Discount']\n"
     ]
    }
   ],
   "source": [
    "print(ace_df.columns.tolist())"
   ]
  },
  {
   "cell_type": "code",
   "execution_count": 21,
   "id": "b4df6fb5-cb21-440c-bdd1-b7616bdedd23",
   "metadata": {},
   "outputs": [],
   "source": [
    "# Checking for duplicates in the data\n",
    "\n",
    "duplicates_mask = ace_df.duplicated()"
   ]
  },
  {
   "cell_type": "code",
   "execution_count": 22,
   "id": "31cac34f-b943-4791-b294-eaf47f8e2e81",
   "metadata": {},
   "outputs": [
    {
     "name": "stdout",
     "output_type": "stream",
     "text": [
      "Found 0 duplicate rows\n"
     ]
    }
   ],
   "source": [
    "num_duplicates = duplicates_mask.sum()\n",
    "print(f\"Found {num_duplicates} duplicate rows\")"
   ]
  },
  {
   "cell_type": "code",
   "execution_count": 23,
   "id": "b4693859-0382-4675-8fcc-43cc1f68a341",
   "metadata": {},
   "outputs": [
    {
     "name": "stdout",
     "output_type": "stream",
     "text": [
      "Rows with negative sales: 2\n",
      "        Order ID Order Date Order Mode Customer ID     City Postal Code  \\\n",
      "6231  TOZ-436225  12/7/2023   In-Store    WA005888  Newport        NR29   \n",
      "7205  NFY-445394  8/22/2023   In-Store    OV004753   Ashley        SN13   \n",
      "\n",
      "      Country           Region                  Product ID  Product Name  \\\n",
      "6231  England  East of England  01JZ3NT0WSFFNM9T43915SGN1R  Fresh Lemons   \n",
      "7205  England  East of England  01JZ3N581SQ22MAK39E2KMEZDT      Zucchini   \n",
      "\n",
      "                  Category Sub-Category  Sales  Cost Price  Quantity  Discount  \n",
      "6231  Food - Fresh Produce       Fruits  -0.10      -0.200        13      0.38  \n",
      "7205        Food - Produce   Vegetables  -0.06      -0.263         7      0.36  \n"
     ]
    }
   ],
   "source": [
    "# checking for Anomalies in the data like negtive sales, discount outside 0-1 range zero or negative quantity or CP\n",
    "\n",
    "neg_sales = ace_df[ace_df['Sales']<0]\n",
    "print(f\"Rows with negative sales: {len(neg_sales)}\")\n",
    "print(neg_sales)"
   ]
  },
  {
   "cell_type": "code",
   "execution_count": 24,
   "id": "8d1ced61-2c51-4e09-999c-aa174f62542a",
   "metadata": {},
   "outputs": [
    {
     "name": "stdout",
     "output_type": "stream",
     "text": [
      " Rows with Anomalis Discount:197\n"
     ]
    },
    {
     "data": {
      "text/html": [
       "<div>\n",
       "<style scoped>\n",
       "    .dataframe tbody tr th:only-of-type {\n",
       "        vertical-align: middle;\n",
       "    }\n",
       "\n",
       "    .dataframe tbody tr th {\n",
       "        vertical-align: top;\n",
       "    }\n",
       "\n",
       "    .dataframe thead th {\n",
       "        text-align: right;\n",
       "    }\n",
       "</style>\n",
       "<table border=\"1\" class=\"dataframe\">\n",
       "  <thead>\n",
       "    <tr style=\"text-align: right;\">\n",
       "      <th></th>\n",
       "      <th>Order ID</th>\n",
       "      <th>Order Date</th>\n",
       "      <th>Order Mode</th>\n",
       "      <th>Customer ID</th>\n",
       "      <th>City</th>\n",
       "      <th>Postal Code</th>\n",
       "      <th>Country</th>\n",
       "      <th>Region</th>\n",
       "      <th>Product ID</th>\n",
       "      <th>Product Name</th>\n",
       "      <th>Category</th>\n",
       "      <th>Sub-Category</th>\n",
       "      <th>Sales</th>\n",
       "      <th>Cost Price</th>\n",
       "      <th>Quantity</th>\n",
       "      <th>Discount</th>\n",
       "    </tr>\n",
       "  </thead>\n",
       "  <tbody>\n",
       "    <tr>\n",
       "      <th>183</th>\n",
       "      <td>YWV-893212</td>\n",
       "      <td>9/9/2024</td>\n",
       "      <td>In-Store</td>\n",
       "      <td>AW056186</td>\n",
       "      <td>Weston</td>\n",
       "      <td>GU32</td>\n",
       "      <td>England</td>\n",
       "      <td>South East</td>\n",
       "      <td>01JZ3N55Y4FVCVP8CAXFFPKY0F</td>\n",
       "      <td>Foot Spa Bath Massager</td>\n",
       "      <td>Health</td>\n",
       "      <td>Personal Care &amp; Grooming</td>\n",
       "      <td>59.99</td>\n",
       "      <td>17.997</td>\n",
       "      <td>4</td>\n",
       "      <td>-0.144590</td>\n",
       "    </tr>\n",
       "    <tr>\n",
       "      <th>204</th>\n",
       "      <td>VCA-613402</td>\n",
       "      <td>1/9/2024</td>\n",
       "      <td>Online</td>\n",
       "      <td>NS069640</td>\n",
       "      <td>Thorpe</td>\n",
       "      <td>BD23</td>\n",
       "      <td>England</td>\n",
       "      <td>East of England</td>\n",
       "      <td>01JZ3N5618YV1KAK7R07ZPTJ6Y</td>\n",
       "      <td>Kid's Fruit Snacks</td>\n",
       "      <td>Food - Snacks</td>\n",
       "      <td>Sweet Snacks</td>\n",
       "      <td>2.49</td>\n",
       "      <td>0.747</td>\n",
       "      <td>4</td>\n",
       "      <td>-0.144590</td>\n",
       "    </tr>\n",
       "    <tr>\n",
       "      <th>322</th>\n",
       "      <td>RAA-859987</td>\n",
       "      <td>8/3/2024</td>\n",
       "      <td>Online</td>\n",
       "      <td>RU014698</td>\n",
       "      <td>Stapleford</td>\n",
       "      <td>LN6</td>\n",
       "      <td>England</td>\n",
       "      <td>East Midlands</td>\n",
       "      <td>01JZ3N563QYFEB8QYHSTCNWH9H</td>\n",
       "      <td>Diced Tomatoes (canned)</td>\n",
       "      <td>Food - Canned Goods</td>\n",
       "      <td>Canned Vegetables</td>\n",
       "      <td>1.49</td>\n",
       "      <td>0.447</td>\n",
       "      <td>2</td>\n",
       "      <td>-1.289181</td>\n",
       "    </tr>\n",
       "    <tr>\n",
       "      <th>363</th>\n",
       "      <td>DGS-988971</td>\n",
       "      <td>2/17/2024</td>\n",
       "      <td>In-Store</td>\n",
       "      <td>AH043184</td>\n",
       "      <td>Edinburgh</td>\n",
       "      <td>EH9</td>\n",
       "      <td>Scotland</td>\n",
       "      <td>North West</td>\n",
       "      <td>01JZ3N55P5TN4P8G8MJ6AHQ8JQ</td>\n",
       "      <td>Multi-Port USB Hub</td>\n",
       "      <td>Electronics</td>\n",
       "      <td>Computer Accessories</td>\n",
       "      <td>19.99</td>\n",
       "      <td>5.997</td>\n",
       "      <td>4</td>\n",
       "      <td>-0.144590</td>\n",
       "    </tr>\n",
       "    <tr>\n",
       "      <th>383</th>\n",
       "      <td>LUC-513135</td>\n",
       "      <td>9/5/2024</td>\n",
       "      <td>In-Store</td>\n",
       "      <td>ZU048884</td>\n",
       "      <td>Newport</td>\n",
       "      <td>NR29</td>\n",
       "      <td>England</td>\n",
       "      <td>London</td>\n",
       "      <td>01JZ3N51A0QB4P255ZQ396VH6P</td>\n",
       "      <td>Frozen Burritos</td>\n",
       "      <td>Food - Frozen Foods</td>\n",
       "      <td>Frozen Entrees</td>\n",
       "      <td>8.99</td>\n",
       "      <td>2.697</td>\n",
       "      <td>2</td>\n",
       "      <td>-1.289181</td>\n",
       "    </tr>\n",
       "    <tr>\n",
       "      <th>...</th>\n",
       "      <td>...</td>\n",
       "      <td>...</td>\n",
       "      <td>...</td>\n",
       "      <td>...</td>\n",
       "      <td>...</td>\n",
       "      <td>...</td>\n",
       "      <td>...</td>\n",
       "      <td>...</td>\n",
       "      <td>...</td>\n",
       "      <td>...</td>\n",
       "      <td>...</td>\n",
       "      <td>...</td>\n",
       "      <td>...</td>\n",
       "      <td>...</td>\n",
       "      <td>...</td>\n",
       "      <td>...</td>\n",
       "    </tr>\n",
       "    <tr>\n",
       "      <th>10804</th>\n",
       "      <td>FIZ-485718</td>\n",
       "      <td>6/17/2024</td>\n",
       "      <td>Online</td>\n",
       "      <td>QI072534</td>\n",
       "      <td>Eaton</td>\n",
       "      <td>DN22</td>\n",
       "      <td>England</td>\n",
       "      <td>East of England</td>\n",
       "      <td>01JZ3NC3ZXG9X04XBFMA87QHDF</td>\n",
       "      <td>Gluten-Free Brownies</td>\n",
       "      <td>Food - Baking</td>\n",
       "      <td>Gluten-Free Desserts</td>\n",
       "      <td>4.99</td>\n",
       "      <td>1.497</td>\n",
       "      <td>2</td>\n",
       "      <td>-1.289181</td>\n",
       "    </tr>\n",
       "    <tr>\n",
       "      <th>10836</th>\n",
       "      <td>VHN-741703</td>\n",
       "      <td>7/12/2024</td>\n",
       "      <td>Online</td>\n",
       "      <td>JW035277</td>\n",
       "      <td>Tullich</td>\n",
       "      <td>AB55</td>\n",
       "      <td>Scotland</td>\n",
       "      <td>East of England</td>\n",
       "      <td>01JZ3NC49Q02P356T5ZY9EEJ50</td>\n",
       "      <td>Blackberry Compote</td>\n",
       "      <td>Food - Condiments</td>\n",
       "      <td>Fruit Spreads</td>\n",
       "      <td>5.29</td>\n",
       "      <td>1.587</td>\n",
       "      <td>4</td>\n",
       "      <td>-0.144590</td>\n",
       "    </tr>\n",
       "    <tr>\n",
       "      <th>10871</th>\n",
       "      <td>IYN-729377</td>\n",
       "      <td>10/20/2023</td>\n",
       "      <td>In-Store</td>\n",
       "      <td>HS079253</td>\n",
       "      <td>Church End</td>\n",
       "      <td>CB4</td>\n",
       "      <td>England</td>\n",
       "      <td>West Midlands</td>\n",
       "      <td>01JZ3NC7MJVERD3MQKGTZXXZ0M</td>\n",
       "      <td>Teriyaki Tofu Stir-Fry</td>\n",
       "      <td>Food - Prepared Meals</td>\n",
       "      <td>Vegetarian Meals</td>\n",
       "      <td>7.49</td>\n",
       "      <td>2.247</td>\n",
       "      <td>1</td>\n",
       "      <td>-3.578362</td>\n",
       "    </tr>\n",
       "    <tr>\n",
       "      <th>10901</th>\n",
       "      <td>JUR-208879</td>\n",
       "      <td>10/18/2023</td>\n",
       "      <td>In-Store</td>\n",
       "      <td>YR020187</td>\n",
       "      <td>Ashley</td>\n",
       "      <td>SN13</td>\n",
       "      <td>England</td>\n",
       "      <td>North West</td>\n",
       "      <td>01JZ3N59HWZH3BN0Q0AEGHD49W</td>\n",
       "      <td>Portable UV Sterilizer</td>\n",
       "      <td>Health</td>\n",
       "      <td>Health Devices</td>\n",
       "      <td>19.99</td>\n",
       "      <td>5.997</td>\n",
       "      <td>4</td>\n",
       "      <td>-0.144590</td>\n",
       "    </tr>\n",
       "    <tr>\n",
       "      <th>10909</th>\n",
       "      <td>UNB-776347</td>\n",
       "      <td>1/6/2024</td>\n",
       "      <td>In-Store</td>\n",
       "      <td>CF022551</td>\n",
       "      <td>Newtown</td>\n",
       "      <td>RG20</td>\n",
       "      <td>England</td>\n",
       "      <td>East of England</td>\n",
       "      <td>01JZ3NC53V1772NGAJVPB17CX4</td>\n",
       "      <td>Pet Camera with Treat Dispenser</td>\n",
       "      <td>Pets</td>\n",
       "      <td>Pet Technology</td>\n",
       "      <td>149.99</td>\n",
       "      <td>44.997</td>\n",
       "      <td>2</td>\n",
       "      <td>-1.289181</td>\n",
       "    </tr>\n",
       "  </tbody>\n",
       "</table>\n",
       "<p>197 rows × 16 columns</p>\n",
       "</div>"
      ],
      "text/plain": [
       "         Order ID  Order Date Order Mode Customer ID        City Postal Code  \\\n",
       "183    YWV-893212    9/9/2024   In-Store    AW056186      Weston        GU32   \n",
       "204    VCA-613402    1/9/2024     Online    NS069640      Thorpe        BD23   \n",
       "322    RAA-859987    8/3/2024     Online    RU014698  Stapleford         LN6   \n",
       "363    DGS-988971   2/17/2024   In-Store    AH043184   Edinburgh         EH9   \n",
       "383    LUC-513135    9/5/2024   In-Store    ZU048884     Newport        NR29   \n",
       "...           ...         ...        ...         ...         ...         ...   \n",
       "10804  FIZ-485718   6/17/2024     Online    QI072534       Eaton        DN22   \n",
       "10836  VHN-741703   7/12/2024     Online    JW035277     Tullich        AB55   \n",
       "10871  IYN-729377  10/20/2023   In-Store    HS079253  Church End         CB4   \n",
       "10901  JUR-208879  10/18/2023   In-Store    YR020187      Ashley        SN13   \n",
       "10909  UNB-776347    1/6/2024   In-Store    CF022551     Newtown        RG20   \n",
       "\n",
       "        Country           Region                  Product ID  \\\n",
       "183     England       South East  01JZ3N55Y4FVCVP8CAXFFPKY0F   \n",
       "204     England  East of England  01JZ3N5618YV1KAK7R07ZPTJ6Y   \n",
       "322     England    East Midlands  01JZ3N563QYFEB8QYHSTCNWH9H   \n",
       "363    Scotland       North West  01JZ3N55P5TN4P8G8MJ6AHQ8JQ   \n",
       "383     England           London  01JZ3N51A0QB4P255ZQ396VH6P   \n",
       "...         ...              ...                         ...   \n",
       "10804   England  East of England  01JZ3NC3ZXG9X04XBFMA87QHDF   \n",
       "10836  Scotland  East of England  01JZ3NC49Q02P356T5ZY9EEJ50   \n",
       "10871   England    West Midlands  01JZ3NC7MJVERD3MQKGTZXXZ0M   \n",
       "10901   England       North West  01JZ3N59HWZH3BN0Q0AEGHD49W   \n",
       "10909   England  East of England  01JZ3NC53V1772NGAJVPB17CX4   \n",
       "\n",
       "                          Product Name               Category  \\\n",
       "183             Foot Spa Bath Massager                 Health   \n",
       "204                 Kid's Fruit Snacks          Food - Snacks   \n",
       "322            Diced Tomatoes (canned)    Food - Canned Goods   \n",
       "363                 Multi-Port USB Hub            Electronics   \n",
       "383                    Frozen Burritos    Food - Frozen Foods   \n",
       "...                                ...                    ...   \n",
       "10804             Gluten-Free Brownies          Food - Baking   \n",
       "10836               Blackberry Compote      Food - Condiments   \n",
       "10871           Teriyaki Tofu Stir-Fry  Food - Prepared Meals   \n",
       "10901           Portable UV Sterilizer                 Health   \n",
       "10909  Pet Camera with Treat Dispenser                   Pets   \n",
       "\n",
       "                   Sub-Category   Sales  Cost Price  Quantity  Discount  \n",
       "183    Personal Care & Grooming   59.99      17.997         4 -0.144590  \n",
       "204                Sweet Snacks    2.49       0.747         4 -0.144590  \n",
       "322           Canned Vegetables    1.49       0.447         2 -1.289181  \n",
       "363        Computer Accessories   19.99       5.997         4 -0.144590  \n",
       "383              Frozen Entrees    8.99       2.697         2 -1.289181  \n",
       "...                         ...     ...         ...       ...       ...  \n",
       "10804      Gluten-Free Desserts    4.99       1.497         2 -1.289181  \n",
       "10836             Fruit Spreads    5.29       1.587         4 -0.144590  \n",
       "10871          Vegetarian Meals    7.49       2.247         1 -3.578362  \n",
       "10901            Health Devices   19.99       5.997         4 -0.144590  \n",
       "10909            Pet Technology  149.99      44.997         2 -1.289181  \n",
       "\n",
       "[197 rows x 16 columns]"
      ]
     },
     "execution_count": 24,
     "metadata": {},
     "output_type": "execute_result"
    }
   ],
   "source": [
    "anomalies_discount = ace_df[(ace_df['Discount'] < 0) | (ace_df['Discount'] > 1)]\n",
    "\n",
    "print(f\" Rows with Anomalis Discount:{len(anomalies_discount)}\")\n",
    "anomalies_discount"
   ]
  },
  {
   "cell_type": "code",
   "execution_count": 25,
   "id": "ddb5faac-bf6a-4221-83c3-536fec9622e9",
   "metadata": {},
   "outputs": [
    {
     "name": "stdout",
     "output_type": "stream",
     "text": [
      " Rows with Invalid Qty: 0\n",
      " Rows with Invalid Cost: 42\n"
     ]
    }
   ],
   "source": [
    "invalid_qty = ace_df[ace_df['Quantity']<=0]\n",
    "invalid_cost = ace_df[ace_df['Cost Price']<= 0]\n",
    "print (f\" Rows with Invalid Qty: {len(invalid_qty)}\")\n",
    "print(f\" Rows with Invalid Cost: {len(invalid_cost)}\")\n"
   ]
  },
  {
   "cell_type": "code",
   "execution_count": 26,
   "id": "4151e0ea-15a8-4ee6-90e3-d5f80191e35b",
   "metadata": {},
   "outputs": [
    {
     "name": "stdout",
     "output_type": "stream",
     "text": [
      "      Sales  Quantity  Cost Price  Discount\n",
      "6115   0.14         9      -0.203   1.10525\n"
     ]
    }
   ],
   "source": [
    "invalid_discounts = ace_df[ace_df['Discount']>1]\n",
    "print(invalid_discounts[['Sales', 'Quantity', 'Cost Price', 'Discount']].head())"
   ]
  },
  {
   "cell_type": "code",
   "execution_count": 27,
   "id": "f6ca0c89-47ab-4a76-a8e1-0cb9acf6603f",
   "metadata": {},
   "outputs": [],
   "source": [
    "negative_sales = ace_df[ace_df['Sales']<0]\n",
    "invalid_cost = ace_df[ace_df['Cost Price']<=0]"
   ]
  },
  {
   "cell_type": "code",
   "execution_count": 28,
   "id": "17bde3c1-edd3-4c6b-ba44-ec326a748465",
   "metadata": {},
   "outputs": [],
   "source": [
    "\n",
    "# This function handles both \"Category-Segment and stand-alone Category values\"\n",
    "\n",
    "def extract_segment(Category):\n",
    "    if '-' in Category:\n",
    "        return Category.split('-')[1].strip()\n",
    "    else:\n",
    "        return Category.strip()\n",
    "\n",
    "# now we create a new 'Segment ' column\n",
    "\n",
    "ace_df['Segment'] = ace_df['Category'].apply(extract_segment)"
   ]
  },
  {
   "cell_type": "code",
   "execution_count": 29,
   "id": "6739ef64-1b11-4d36-907b-9704e1d88a7c",
   "metadata": {},
   "outputs": [],
   "source": [
    "# Group by Region, Category etc\n",
    "\n",
    "summary_df = ace_df.groupby(['Region', 'Category', 'Segment']).agg({\n",
    "    'Sales': 'sum',\n",
    "    'Discount': 'mean',\n",
    "    'Quantity': 'sum'\n",
    "}).reset_index()   "
   ]
  },
  {
   "cell_type": "code",
   "execution_count": 30,
   "id": "cbdfb939-91c3-4214-a9f1-bbd483c8ec88",
   "metadata": {},
   "outputs": [
    {
     "name": "stdout",
     "output_type": "stream",
     "text": [
      "          Region      Category       Segment   Sales  Discount  Quantity\n",
      "0  East Midlands   Accessories   Accessories  731.64  0.215684       243\n",
      "1  East Midlands          Apps          Apps   25.99  0.120000        11\n",
      "2  East Midlands  Art Supplies  Art Supplies  181.36  0.387211        66\n",
      "3  East Midlands         Audio         Audio  514.89  0.160000       106\n",
      "4  East Midlands    Automotive    Automotive  194.47  0.137143        67\n",
      "5  East Midlands          Baby          Baby   78.99  0.000000        13\n",
      "6  East Midlands        Beauty        Beauty  471.20  0.235763        81\n",
      "7  East Midlands      Bicycles      Bicycles  960.54  0.246667        13\n",
      "8  East Midlands         Books         Books  137.10  0.236000        40\n",
      "9  East Midlands      Clothing      Clothing  234.26  0.135000        46\n"
     ]
    }
   ],
   "source": [
    "print(summary_df.head(10))"
   ]
  },
  {
   "cell_type": "code",
   "execution_count": 31,
   "id": "2c949207-8bed-4b61-9451-0c6db5c4ff0e",
   "metadata": {},
   "outputs": [
    {
     "name": "stdout",
     "output_type": "stream",
     "text": [
      "Top 5 Best_Selling:\n",
      "                        Product Name    Sales  Quantity  Discount\n",
      "1200  Portable Refrigerator Freezer  4504.38       171  0.150000\n",
      "484                   Electric Bike  4499.25        53  0.214000\n",
      "1204       Portable Solar Generator  3998.20       128  0.206129\n",
      "443                  Digital Camera  3902.86       107  0.086923\n",
      "363          Compact Digital Camera  2998.17       133  0.135000\n",
      "\n",
      "Bottom 5 Underperforming Products:\n",
      "              Product Name  Sales  Quantity  Discount\n",
      "188    Canned Black Beans   1.29         7  0.270000\n",
      "563   Flavored Rice Cakes   1.49        12  0.080000\n",
      "1554         Tomato Paste   1.87        29  0.136667\n",
      "1335         Sesame Seeds   1.99        20  0.330000\n",
      "87            Baking Soda   2.13        23  0.140000\n"
     ]
    }
   ],
   "source": [
    "# Next is to identify top 5 best selling Products\n",
    "# Here we group by the product name to get total sales and quantity\n",
    "\n",
    "product_sales = ace_df.groupby('Product Name').agg({\n",
    "    'Sales': 'sum',\n",
    "    'Quantity': 'sum',\n",
    "    'Discount': 'mean' # average discount\n",
    "}).reset_index()\n",
    "\n",
    "#Top 5 best-selling by Sales\n",
    "\n",
    "top_5_products = product_sales.sort_values('Sales', ascending=False).head(5)\n",
    "\n",
    "# Underperforming products by lowest sales(revenue)\n",
    "bottom_5_products = product_sales.sort_values('Sales', ascending=True).head(5)\n",
    "\n",
    "#Optionally, find products with the highest average discount\n",
    "#high_discount_products = product_sales.sort_values('Discount', ascending=False).head(5)\n",
    "\n",
    "print(\"Top 5 Best_Selling:\\n\", top_5_products)\n",
    "print(\"\\nBottom 5 Underperforming Products:\\n\", bottom_5_products)\n"
   ]
  },
  {
   "cell_type": "code",
   "execution_count": 32,
   "id": "711cfb66-c612-4ec4-a349-ae0ae8c27f71",
   "metadata": {},
   "outputs": [
    {
     "name": "stdout",
     "output_type": "stream",
     "text": [
      "                  Category  Total_Margin  Average_Margin  Total_Sales\n",
      "58         Food - Dressing        -3.571       -1.190333         7.17\n",
      "97   Food - Salad Toppings       -15.064       -3.766000         9.96\n",
      "81            Food - Meals       -17.456      -17.456000         4.99\n",
      "96          Food - Protein       -18.464       -4.616000        17.71\n",
      "106         Food - Spreads       -21.396       -5.349000        17.26\n",
      "..                     ...           ...             ...          ...\n",
      "31                 Fitness    -36146.704     -101.821701     14048.88\n",
      "116                   Home    -51622.725      -88.093387     21512.51\n",
      "30             Electronics    -52965.980     -211.863920     22268.58\n",
      "120                Kitchen    -85940.416      -93.109876     36046.21\n",
      "123                Outdoor    -87798.229     -167.874243     35187.50\n",
      "\n",
      "[135 rows x 4 columns]\n"
     ]
    }
   ],
   "source": [
    "#Calculating margin for each row\n",
    "\n",
    "ace_df['Margin'] = ace_df['Sales'] - (ace_df['Cost Price'] * ace_df['Quantity'])\n",
    "\n",
    "category_margin = ace_df.groupby('Category').agg(\n",
    "    Total_Margin = ('Margin', 'sum'),\n",
    "    Average_Margin =('Margin', 'mean'),\n",
    "    Total_Sales = ('Sales', 'sum')\n",
    ").reset_index()\n",
    "\n",
    "category_margin = category_margin.sort_values(by='Total_Margin', ascending=False)\n",
    "\n",
    "print(category_margin)"
   ]
  },
  {
   "cell_type": "code",
   "execution_count": 33,
   "id": "550df5f4-01e7-4a6b-8b3f-748da78153b5",
   "metadata": {},
   "outputs": [
    {
     "name": "stdout",
     "output_type": "stream",
     "text": [
      "  Order Mode      Sales  Percentage\n",
      "0   In-Store  145746.63   48.367145\n",
      "1     Online  155587.32   51.632855\n"
     ]
    }
   ],
   "source": [
    "#Group by ORder mode and sum sales\n",
    "\n",
    "sales_by_mode = ace_df.groupby('Order Mode')['Sales'].sum().reset_index()\n",
    "\n",
    "#calculate percentage contribution for each mode\n",
    "\n",
    "total_sales = sales_by_mode['Sales'].sum()\n",
    "sales_by_mode['Percentage'] = (sales_by_mode['Sales'] / total_sales) * 100\n",
    "\n",
    "print(sales_by_mode)"
   ]
  },
  {
   "cell_type": "code",
   "execution_count": 36,
   "id": "e6580d8f-843e-41e8-8182-d55ee86c860c",
   "metadata": {},
   "outputs": [
    {
     "data": {
      "image/png": "[encoded data removed]",
      "text/plain": [
       "<Figure size 600x600 with 1 Axes>"
      ]
     },
     "metadata": {},
     "output_type": "display_data"
    }
   ],
   "source": [
    "# let's visualize\n",
    "\n",
    "import matplotlib.pyplot as plt\n",
    "\n",
    "#Using pie chart to show distribution of sales\n",
    "\n",
    "plt.figure(figsize=(6,6))\n",
    "plt.pie(\n",
    "    sales_by_mode['Sales'],\n",
    "    labels=sales_by_mode['Order Mode'],\n",
    "    autopct= '%1.1f%%',\n",
    "    startangle=90,\n",
    "    colors=['blue', 'grey']\n",
    ")\n",
    "plt.title('Sales Distribution by Order Mode')\n",
    "plt.show()"
   ]
  },
  {
   "cell_type": "code",
   "execution_count": 74,
   "id": "b9840a70-5d11-483a-9d72-0235ac99fc3f",
   "metadata": {},
   "outputs": [
    {
     "name": "stderr",
     "output_type": "stream",
     "text": [
      "C:\\Users\\USER\\AppData\\Local\\Temp\\ipykernel_15592\\3897309036.py:18: UserWarning: No artists with labels found to put in legend.  Note that artists whose label start with an underscore are ignored when legend() is called with no argument.\n",
      "  plt.legend(title='Category', bbox_to_anchor=(1.05,1), loc='upper left')\n"
     ]
    },
    {
     "data": {
      "image/png": "[encoded data removed]",
      "text/plain": [
       "<Figure size 1200x600 with 1 Axes>"
      ]
     },
     "metadata": {},
     "output_type": "display_data"
    }
   ],
   "source": [
    "import seaborn as sns\n",
    "\n",
    "# Setting a consistent style for charts\n",
    "\n",
    "sns.set_style('whitegrid')\n",
    "\n",
    "#...........-------Chart 1: Sales by Region and Segment ---\n",
    "\n",
    "# Group by Region and Segment, sum sales\n",
    "\n",
    "region_category_sales = ace_df.groupby(['Region'])['Sales'].sum().sort_values(ascending=False).reset_index()\n",
    "\n",
    "plt.figure(figsize=(12,6))\n",
    "sns.barplot(data=region_category_sales, x= 'Sales', y='Region')\n",
    "plt.title('Total Sales by Region')\n",
    "plt.ylabel('Region')\n",
    "plt.xlabel('Total Sales')\n",
    "plt.legend(title='Category', bbox_to_anchor=(1.05,1), loc='upper left')\n",
    "plt.xticks(rotation=45)\n",
    "plt.tight_layout()\n",
    "plt.show()"
   ]
  },
  {
   "cell_type": "code",
   "execution_count": 56,
   "id": "1ca80861-00ea-47dc-a7b0-d72e68f0527f",
   "metadata": {},
   "outputs": [
    {
     "name": "stderr",
     "output_type": "stream",
     "text": [
      "C:\\Users\\USER\\AppData\\Local\\Temp\\ipykernel_15592\\2636815276.py:4: FutureWarning: \n",
      "\n",
      "Passing `palette` without assigning `hue` is deprecated and will be removed in v0.14.0. Assign the `y` variable to `hue` and set `legend=False` for the same effect.\n",
      "\n",
      "  sns.barplot(data=top_5_products, x=\"Sales\", y=\"Product Name\", palette=\"crest\")\n"
     ]
    },
    {
     "data": {
      "image/png": "[encoded data removed]",
      "text/plain": [
       "<Figure size 1000x600 with 1 Axes>"
      ]
     },
     "metadata": {},
     "output_type": "display_data"
    }
   ],
   "source": [
    "top_5_products = ace_df.groupby(\"Product Name\")[\"Sales\"].sum().sort_values(ascending=False).head(5).reset_index()\n",
    "\n",
    "plt.figure(figsize=(10,6))\n",
    "sns.barplot(data=top_5_products, x=\"Sales\", y=\"Product Name\", palette=\"crest\")\n",
    "plt.title(\"Top 5 Best-Selling Products by Revenue\")\n",
    "plt.xlabel(\"Total Revenue\")\n",
    "plt.ylabel(\"Product Name\")\n",
    "plt.tight_layout()\n",
    "plt.show()"
   ]
  },
  {
   "cell_type": "code",
   "execution_count": 59,
   "id": "286f7d4d-e9ea-45a6-88a2-a20204815b4e",
   "metadata": {},
   "outputs": [
    {
     "name": "stderr",
     "output_type": "stream",
     "text": [
      "C:\\Users\\USER\\AppData\\Local\\Temp\\ipykernel_15592\\914032386.py:4: FutureWarning: \n",
      "\n",
      "Passing `palette` without assigning `hue` is deprecated and will be removed in v0.14.0. Assign the `y` variable to `hue` and set `legend=False` for the same effect.\n",
      "\n",
      "  sns.barplot(data=bottom_5_products, x=\"Sales\", y=\"Product Name\", palette=\"flare\")\n"
     ]
    },
    {
     "data": {
      "image/png": "[encoded data removed]",
      "text/plain": [
       "<Figure size 1000x600 with 1 Axes>"
      ]
     },
     "metadata": {},
     "output_type": "display_data"
    }
   ],
   "source": [
    "bottom_5_products = ace_df.groupby(\"Product Name\")[\"Sales\"].sum().sort_values().head(5).reset_index()\n",
    "\n",
    "plt.figure(figsize=(10,6))\n",
    "sns.barplot(data=bottom_5_products, x=\"Sales\", y=\"Product Name\", palette=\"flare\")\n",
    "plt.title(\"Top 5 Underperforming Products by Revenue\")\n",
    "plt.xlabel(\"Total Revenue\")\n",
    "plt.ylabel(\"Product Name\")\n",
    "plt.tight_layout()\n",
    "plt.show()"
   ]
  },
  {
   "cell_type": "code",
   "execution_count": 66,
   "id": "2e994fd8-e1a3-4474-af88-ce2040a9dbee",
   "metadata": {},
   "outputs": [
    {
     "data": {
      "image/png": "[encoded data removed]",
      "text/plain": [
       "<Figure size 600x600 with 1 Axes>"
      ]
     },
     "metadata": {},
     "output_type": "display_data"
    }
   ],
   "source": [
    "# ----Sales Distribution by ORder Mode\n",
    "\n",
    "order_mode_sales = ace_df.groupby('Order Mode')['Sales'].sum()\n",
    "\n",
    "plt.figure(figsize=(6,6))\n",
    "order_mode_sales.plot(kind='pie', autopct='%1.1f%%', startangle=140, colors=[\"Grey\", \"lightBlue\"])\n",
    "plt.title(\"Sales Distribution: Online vs In-Store\")\n",
    "plt.ylabel(\"\")\n",
    "plt.tight_layout()\n",
    "plt.show()"
   ]
  },
  {
   "cell_type": "code",
   "execution_count": null,
   "id": "07a232d7-673a-4d52-91a3-62a63c98c257",
   "metadata": {},
   "outputs": [],
   "source": []
  }
 ],
 "metadata": {
  "kernelspec": {
   "display_name": "Python 3 (ipykernel)",
   "language": "python",
   "name": "python3"
  },
  "language_info": {
   "codemirror_mode": {
    "name": "ipython",
    "version": 3
   },
   "file_extension": ".py",
   "mimetype": "text/x-python",
   "name": "python",
   "nbconvert_exporter": "python",
   "pygments_lexer": "ipython3",
   "version": "3.13.3"
  }
 },
 "nbformat": 4,
 "nbformat_minor": 5
}
